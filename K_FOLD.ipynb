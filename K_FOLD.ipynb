{
  "nbformat": 4,
  "nbformat_minor": 0,
  "metadata": {
    "colab": {
      "name": "K-FOLD.ipynb",
      "provenance": [],
      "collapsed_sections": [],
      "authorship_tag": "ABX9TyMBOa8mapPD9bckT2hhaTWO",
      "include_colab_link": true
    },
    "kernelspec": {
      "name": "python3",
      "display_name": "Python 3"
    },
    "language_info": {
      "name": "python"
    }
  },
  "cells": [
    {
      "cell_type": "markdown",
      "metadata": {
        "id": "view-in-github",
        "colab_type": "text"
      },
      "source": [
        "<a href=\"https://colab.research.google.com/github/batuhancepni/deeplearning_quickcodes/blob/main/K_FOLD.ipynb\" target=\"_parent\"><img src=\"https://colab.research.google.com/assets/colab-badge.svg\" alt=\"Open In Colab\"/></a>"
      ]
    },
    {
      "cell_type": "code",
      "metadata": {
        "id": "_2QmFPJDVVLv"
      },
      "source": [
        "##### K-FOLD CROSS-VALIDATION\n",
        "\n",
        "k=4 ## THIS IS THE NUMBER OF PIECES.\n",
        "num_validation_samples = len(data) // k\n",
        "\n",
        "np.random.shuffle(data)\n",
        "\n",
        "\n",
        "validation_scores = []\n",
        "for fold in range(k):\n",
        "  validation_data = data[num_validation_samples * fold:num_validation_samples * (fold + 1)]\n",
        "  training_data = data[:num_validation_samples * fold] + data[num_validation_samples * (fold + 1):]\n",
        "\n",
        "  model = get_model()\n",
        "  model.train(training_data)\n",
        "  validation_score = model.evaluate(validation_data)\n",
        "  validation_scores.append(validation_score)\n",
        "\n",
        "validation_score = np.average(validation_scores)\n",
        "model = get_model()\n",
        "model.train(data)\n",
        "test_score = model.evaluate(test_data)"
      ],
      "execution_count": null,
      "outputs": []
    }
  ]
}